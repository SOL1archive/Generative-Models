{
  "cells": [
    {
      "cell_type": "code",
      "execution_count": null,
      "metadata": {
        "id": "0lqfqEWcchdu"
      },
      "outputs": [],
      "source": [
        "!pip install lightning --quiet\n",
        "!pip install -U huggingface-hub --quiet\n",
        "!pip install datasets --quiet"
      ]
    },
    {
      "cell_type": "code",
      "execution_count": null,
      "metadata": {
        "id": "MD91keoajGKe"
      },
      "outputs": [],
      "source": [
        "import numpy as np\n",
        "import pandas as pd\n",
        "from tqdm.auto import tqdm\n",
        "\n",
        "import torch\n",
        "import torch.nn as nn\n",
        "import torch.nn.functional as F\n",
        "from torch.optim import Adam\n",
        "import torch.utils as utils\n",
        "from torch.utils.data import DataLoader, random_split\n",
        "\n",
        "import torchvision\n",
        "import torchvision.transforms as T\n",
        "\n",
        "import datasets\n",
        "from datasets import load_dataset\n",
        "\n",
        "import lightning as L\n",
        "from lightning import seed_everything\n",
        "from lightning.pytorch.callbacks import TQDMProgressBar\n",
        "\n",
        "import matplotlib as  mpl\n",
        "import matplotlib.pyplot as plt\n",
        "import seaborn as sns"
      ]
    },
    {
      "cell_type": "code",
      "execution_count": null,
      "metadata": {
        "id": "PtSDGG_2lB78"
      },
      "outputs": [],
      "source": [
        "transform = T.Compose([\n",
        "    T.Grayscale(num_output_channels=1),\n",
        "])"
      ]
    },
    {
      "cell_type": "code",
      "execution_count": null,
      "metadata": {
        "id": "j1p7nEOmk9hB"
      },
      "outputs": [],
      "source": [
        "dataset_dict = load_dataset('fashion_mnist')\n",
        "dataset_dict = dataset_dict.filter(lambda x: x['label'] == 7)\n",
        "dataset_dict = dataset_dict.map(lambda x: {'image': transform(x['image'])})\n",
        "dataset_dict = dataset_dict.remove_columns(['label'])\n",
        "dataset_dict.set_format('torch')"
      ]
    },
    {
      "cell_type": "code",
      "source": [
        "dataset = dataset_dict['train']"
      ],
      "metadata": {
        "id": "M5mqEj4j__gp"
      },
      "execution_count": null,
      "outputs": []
    },
    {
      "cell_type": "code",
      "execution_count": null,
      "metadata": {
        "id": "Sqn08ypwnb8P"
      },
      "outputs": [],
      "source": [
        "dataset[0]['image'].shape"
      ]
    },
    {
      "cell_type": "code",
      "execution_count": null,
      "metadata": {
        "id": "HP34teVGjHfm"
      },
      "outputs": [],
      "source": [
        "class Coupling(nn.Module):\n",
        "    def __init__(self):\n",
        "        super().__init__()\n",
        "\n",
        "        self.s_net = nn.Sequential(\n",
        "            nn.Conv2d(1, 64, kernel_size=(3, 3), padding=1),\n",
        "            nn.ReLU(),\n",
        "            nn.Conv2d(64, 64, kernel_size=(3, 3), padding=1),\n",
        "            nn.ReLU(),\n",
        "            nn.Conv2d(64, 64, kernel_size=(3, 3), padding=1),\n",
        "            nn.ReLU(),\n",
        "            nn.Conv2d(64, 64, kernel_size=(3, 3), padding=1),\n",
        "            nn.ReLU(),\n",
        "            nn.Conv2d(64, 64, kernel_size=(3, 3), padding=1),\n",
        "            nn.ReLU(),\n",
        "            nn.Conv2d(64, 64, kernel_size=(3, 3), padding=1),\n",
        "            nn.ReLU(),\n",
        "            nn.Conv2d(64, 1, kernel_size=(3, 3), padding=1),\n",
        "            nn.Tanh()\n",
        "        )\n",
        "        self.t_net = nn.Sequential(\n",
        "            nn.Conv2d(1, 64, kernel_size=(3, 3), padding=1),\n",
        "            nn.ReLU(),\n",
        "            nn.Conv2d(64, 64, kernel_size=(3, 3), padding=1),\n",
        "            nn.ReLU(),\n",
        "            nn.Conv2d(64, 64, kernel_size=(3, 3), padding=1),\n",
        "            nn.ReLU(),\n",
        "            nn.Conv2d(64, 64, kernel_size=(3, 3), padding=1),\n",
        "            nn.ReLU(),\n",
        "            nn.Conv2d(64, 64, kernel_size=(3, 3), padding=1),\n",
        "            nn.ReLU(),\n",
        "            nn.Conv2d(64, 64, kernel_size=(3, 3), padding=1),\n",
        "            nn.ReLU(),\n",
        "            nn.Conv2d(64, 1, kernel_size=(3, 3), padding=1),\n",
        "            nn.Tanh()\n",
        "        )\n",
        "\n",
        "    def forward(self, x):\n",
        "        s = self.s_net(x)\n",
        "        t = self.t_net(x)\n",
        "        return s, t"
      ]
    },
    {
      "cell_type": "code",
      "execution_count": null,
      "metadata": {
        "id": "n1NtKwjrp5nS"
      },
      "outputs": [],
      "source": [
        "class RealNVP(L.LightningModule):\n",
        "    def __init__(self, num_couplings):\n",
        "        super().__init__()\n",
        "        self.num_couplings = num_couplings\n",
        "        self.coupling = nn.ModuleList([Coupling() for _ in range(num_couplings)])\n",
        "        self.distribution = torch.distributions.Normal(0, 1)\n",
        "\n",
        "    def forward(self, x, direction=1):\n",
        "        log_det = 0\n",
        "        mask = torch.cat(\n",
        "            [torch.zeros(14, 28), torch.ones(14, 28)], dim=0\n",
        "        ).to(self.device)\n",
        "        for coupling in self.coupling[::direction]:\n",
        "            x_masked = x * mask\n",
        "            mask = 1 - mask\n",
        "            s, t = coupling(x_masked)\n",
        "            s = s * mask\n",
        "            t = t * mask\n",
        "            if direction == 1:\n",
        "                x = x * torch.exp(s) + t\n",
        "            else:\n",
        "                x = (x - t) * torch.exp(-s)\n",
        "            log_det += torch.sum(s)\n",
        "        return x, log_det\n",
        "\n",
        "    def training_step(self, batch, batch_idx):\n",
        "        x = batch['image']\n",
        "        batch_size = x.shape[0]\n",
        "        z, log_det = self(x)\n",
        "        log_prob = self.distribution.log_prob(z).sum(dim=(1, 2, 3))\n",
        "        loss = - log_det.mean() - log_prob.mean()\n",
        "        self.log('train_loss', loss)\n",
        "        return loss\n",
        "\n",
        "    def configure_optimizers(self):\n",
        "        return Adam(self.parameters(), lr=2e-4)"
      ]
    },
    {
      "cell_type": "code",
      "execution_count": null,
      "metadata": {
        "id": "aBQO_h5i4lwN"
      },
      "outputs": [],
      "source": [
        "dataloader = DataLoader(dataset, batch_size=1024, shuffle=True)"
      ]
    },
    {
      "cell_type": "code",
      "source": [
        "trainer = L.Trainer(\n",
        "    max_epochs=50,\n",
        "    callbacks=[TQDMProgressBar(refresh_rate=2)],\n",
        ")\n",
        "model = RealNVP(num_couplings=8)\n",
        "\n",
        "trainer.fit(model, dataloader)"
      ],
      "metadata": {
        "id": "8SVTm1u6Ah5Y"
      },
      "execution_count": null,
      "outputs": []
    },
    {
      "cell_type": "code",
      "source": [
        "model.eval()\n",
        "with torch.no_grad():\n",
        "    sample = torch.randn(1, 1, 28, 28).to(model.device)\n",
        "    sample, _ = model(sample, direction=-1)\n",
        "    sample = sample.cpu()"
      ],
      "metadata": {
        "id": "unQI6TS5OZHX"
      },
      "execution_count": null,
      "outputs": []
    },
    {
      "cell_type": "code",
      "source": [
        "torchvision.transforms.functional.to_pil_image(sample[0, 0])"
      ],
      "metadata": {
        "id": "4qyE48MNBlpG"
      },
      "execution_count": null,
      "outputs": []
    }
  ],
  "metadata": {
    "accelerator": "GPU",
    "colab": {
      "gpuType": "L4",
      "provenance": [],
      "authorship_tag": "ABX9TyPM38K5xuWXSQ4nUGAncUs8"
    },
    "kernelspec": {
      "display_name": "Python 3",
      "name": "python3"
    },
    "language_info": {
      "name": "python"
    }
  },
  "nbformat": 4,
  "nbformat_minor": 0
}
